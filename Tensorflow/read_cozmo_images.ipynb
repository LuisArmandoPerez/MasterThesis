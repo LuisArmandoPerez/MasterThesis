{
 "cells": [
  {
   "cell_type": "code",
   "execution_count": 21,
   "metadata": {},
   "outputs": [],
   "source": [
    "import matplotlib.pyplot as plt"
   ]
  },
  {
   "cell_type": "code",
   "execution_count": 27,
   "metadata": {},
   "outputs": [
    {
     "name": "stdout",
     "output_type": "stream",
     "text": [
      "[array([[[ 24,  24,  24],\n",
      "        [ 22,  22,  22],\n",
      "        [ 18,  18,  18],\n",
      "        ...,\n",
      "        [122, 122, 122],\n",
      "        [121, 121, 121],\n",
      "        [120, 120, 120]],\n",
      "\n",
      "       [[ 23,  23,  23],\n",
      "        [ 21,  21,  21],\n",
      "        [ 18,  18,  18],\n",
      "        ...,\n",
      "        [122, 122, 122],\n",
      "        [121, 121, 121],\n",
      "        [120, 120, 120]],\n",
      "\n",
      "       [[ 21,  21,  21],\n",
      "        [ 19,  19,  19],\n",
      "        [ 17,  17,  17],\n",
      "        ...,\n",
      "        [123, 123, 123],\n",
      "        [122, 122, 122],\n",
      "        [121, 121, 121]],\n",
      "\n",
      "       ...,\n",
      "\n",
      "       [[ 39,  39,  39],\n",
      "        [ 20,  20,  20],\n",
      "        [ 28,  28,  28],\n",
      "        ...,\n",
      "        [ 45,  45,  45],\n",
      "        [ 43,  43,  43],\n",
      "        [ 42,  42,  42]],\n",
      "\n",
      "       [[ 50,  50,  50],\n",
      "        [ 32,  32,  32],\n",
      "        [ 39,  39,  39],\n",
      "        ...,\n",
      "        [ 43,  43,  43],\n",
      "        [ 42,  42,  42],\n",
      "        [ 42,  42,  42]],\n",
      "\n",
      "       [[ 52,  52,  52],\n",
      "        [ 29,  29,  29],\n",
      "        [ 29,  29,  29],\n",
      "        ...,\n",
      "        [ 41,  41,  41],\n",
      "        [ 40,  40,  40],\n",
      "        [ 40,  40,  40]]], dtype=uint8)]\n"
     ]
    }
   ],
   "source": [
    "# Typical setup to include TensorFlow.\n",
    "import tensorflow as tf\n",
    "\n",
    "# Make a queue of file names including all the JPEG images files in the relative\n",
    "# image directory.\n",
    "filename_queue = tf.train.string_input_producer(\n",
    "    tf.train.match_filenames_once(\"./images/*.png\"))\n",
    "\n",
    "# Read an entire image file which is required since they're JPEGs, if the images\n",
    "# are too large they could be split in advance to smaller files or use the Fixed\n",
    "# reader to split up the file.\n",
    "image_reader = tf.WholeFileReader()\n",
    "\n",
    "# Read a whole file from the queue, the first returned value in the tuple is the\n",
    "# filename which we are ignoring.\n",
    "_, image_file = image_reader.read(filename_queue)\n",
    "\n",
    "# # Decode the image as a JPEG file, this will turn it into a Tensor which we can\n",
    "# # then use in training.\n",
    "image = tf.image.decode_png(image_file)\n",
    "\n",
    "# # Start a new session to show example output.\n",
    "with tf.Session() as sess:\n",
    "    # Required to get the filename matching to run.\n",
    "    tf.local_variables_initializer().run()\n",
    "\n",
    "    # Coordinate the loading of image files.\n",
    "    coord = tf.train.Coordinator()\n",
    "    threads = tf.train.start_queue_runners(coord=coord)\n",
    "\n",
    "    # Get an image tensor and print its value.\n",
    "    image_tensor = sess.run([image])\n",
    "    print(image_tensor)\n",
    "\n",
    "    # Finish off the filename queue coordinator.\n",
    "    coord.request_stop()\n",
    "    coord.join(threads)"
   ]
  },
  {
   "cell_type": "code",
   "execution_count": 20,
   "metadata": {},
   "outputs": [
    {
     "data": {
      "text/plain": [
       "(240, 320, 3)"
      ]
     },
     "execution_count": 20,
     "metadata": {},
     "output_type": "execute_result"
    }
   ],
   "source": [
    "image_tensor[0].shape"
   ]
  },
  {
   "cell_type": "code",
   "execution_count": 26,
   "metadata": {},
   "outputs": [],
   "source": [
    "plt.imshow(image_tensor[0][:,:,2])\n",
    "plt.show()"
   ]
  },
  {
   "cell_type": "code",
   "execution_count": null,
   "metadata": {},
   "outputs": [],
   "source": []
  }
 ],
 "metadata": {
  "kernelspec": {
   "display_name": "Python 3",
   "language": "python",
   "name": "python3"
  },
  "language_info": {
   "codemirror_mode": {
    "name": "ipython",
    "version": 3
   },
   "file_extension": ".py",
   "mimetype": "text/x-python",
   "name": "python",
   "nbconvert_exporter": "python",
   "pygments_lexer": "ipython3",
   "version": "3.5.2"
  }
 },
 "nbformat": 4,
 "nbformat_minor": 2
}
