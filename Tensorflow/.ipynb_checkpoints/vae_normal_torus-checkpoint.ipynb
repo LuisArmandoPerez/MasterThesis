{
 "cells": [
  {
   "cell_type": "code",
   "execution_count": 1,
   "metadata": {},
   "outputs": [],
   "source": [
    "import modules.vae_nn_images\n",
    "import modules.savefolders\n",
    "import resources.sinusoidal\n",
    "\n",
    "import numpy as np\n",
    "import matplotlib.pyplot as plt\n",
    "import matplotlib.cm as cm\n",
    "%matplotlib inline"
   ]
  },
  {
   "cell_type": "markdown",
   "metadata": {},
   "source": [
    "## Data generation"
   ]
  },
  {
   "cell_type": "code",
   "execution_count": 2,
   "metadata": {},
   "outputs": [
    {
     "data": {
      "image/png": "[encoded data removed]",
      "text/plain": [
       "<matplotlib.figure.Figure at 0x18d54b40d30>"
      ]
     },
     "metadata": {},
     "output_type": "display_data"
    }
   ],
   "source": [
    "n_T = 50 # Dimension of sinusoidal data\n",
    "omega_values = [2*np.pi, 4*np.pi] # Angular frequency of signals\n",
    "phases1 = np.array(2*np.pi*np.linspace(0, 1, n_T))\n",
    "phases2 = np.copy(phases1)\n",
    "_, phase_images = resources.sinusoidal.sinusoid_image_phase_combination(phases1, phases2, n_T, omega_values)\n",
    "\n",
    "# PLOT THE DATA TO VISUALIZE IT ONLY FOR n_Phi = 100\n",
    "%matplotlib inline \n",
    "plt.imshow(phase_images[0,:,:])\n",
    "plt.title(\"Example data\")\n",
    "plt.xticks([])\n",
    "plt.yticks([])\n",
    "plt.show()"
   ]
  },
  {
   "cell_type": "code",
   "execution_count": 7,
   "metadata": {},
   "outputs": [
    {
     "name": "stdout",
     "output_type": "stream",
     "text": [
      "Tensorboard address to copy paste:\n",
      "\n",
      "C:\\Users\\LUISPR~1\\DOCUME~1\\Master\\TUE\\FINALP~1\\TENSOR~1\\models\\2DSIMP~1\\TENSOR~1\n"
     ]
    }
   ],
   "source": [
    "experiment_name = '2DSimpleDecoder' # Code for the experiment\n",
    "extra_comments ='Normal' # Extra comments of the experiment \n",
    "target_folder = \"C:\\\\Users\\\\Luis Pérez\\\\Documents\\\\Master\\\\TUE\\\\Final Project\\\\TensorFlow Models\"\n",
    "folders = modules.savefolders.SaveFolders(target_folder, experiment_name, extra_comments)\n",
    "log_dir_tensorboard = folders.get_logdir_tensorboard()\n",
    "weights_folder = folders.get_weight_file()"
   ]
  },
  {
   "cell_type": "code",
   "execution_count": 8,
   "metadata": {},
   "outputs": [
    {
     "name": "stdout",
     "output_type": "stream",
     "text": [
      "Normal distribution chosen as encoder\n"
     ]
    }
   ],
   "source": [
    "# Instantiate the VAE class\n",
    "vae_parameters = {'latent_dim':4,\n",
    "                  'mode':{'encoder':'Normal'},\n",
    "                 'learning_rate':0.0001,\n",
    "                 'shape':(50,50)}\n",
    "vae = modules.vae_nn_images.vae_nn_images(**vae_parameters)"
   ]
  },
  {
   "cell_type": "code",
   "execution_count": 14,
   "metadata": {},
   "outputs": [
    {
     "data": {
      "text/plain": [
       "(2500, 50, 50)"
      ]
     },
     "execution_count": 14,
     "metadata": {},
     "output_type": "execute_result"
    }
   ],
   "source": [
    "phase_images.shape"
   ]
  },
  {
   "cell_type": "code",
   "execution_count": 15,
   "metadata": {},
   "outputs": [
    {
     "data": {
      "text/plain": [
       "2.5"
      ]
     },
     "execution_count": 15,
     "metadata": {},
     "output_type": "execute_result"
    }
   ],
   "source": [
    "2500/1000"
   ]
  },
  {
   "cell_type": "code",
   "execution_count": 13,
   "metadata": {},
   "outputs": [
    {
     "ename": "AssertionError",
     "evalue": "Data is not a multiple of the batch size",
     "output_type": "error",
     "traceback": [
      "\u001b[1;31m---------------------------------------------------------------------------\u001b[0m",
      "\u001b[1;31mAssertionError\u001b[0m                            Traceback (most recent call last)",
      "\u001b[1;32m<ipython-input-13-2c679dd7f2d5>\u001b[0m in \u001b[0;36m<module>\u001b[1;34m()\u001b[0m\n\u001b[0;32m      4\u001b[0m                           \u001b[1;34m'log_dir_tensorboard'\u001b[0m\u001b[1;33m:\u001b[0m \u001b[0mlog_dir_tensorboard\u001b[0m\u001b[1;33m,\u001b[0m\u001b[1;33m\u001b[0m\u001b[0m\n\u001b[0;32m      5\u001b[0m                           'weights_folder': weights_folder}\n\u001b[1;32m----> 6\u001b[1;33m \u001b[0mvae\u001b[0m\u001b[1;33m.\u001b[0m\u001b[0mtrain_vae\u001b[0m\u001b[1;33m(\u001b[0m\u001b[1;33m**\u001b[0m\u001b[0mvae_training_parameters\u001b[0m\u001b[1;33m)\u001b[0m\u001b[1;33m\u001b[0m\u001b[0m\n\u001b[0m",
      "\u001b[1;32mC:\\Users\\Luis Pérez\\Documents\\Master\\TUE\\Final Project\\Gitlab\\vae\\Tensorflow\\modules\\vae_nn_images.py\u001b[0m in \u001b[0;36mtrain_vae\u001b[1;34m(self, train_data, batch_size, epochs, log_dir_tensorboard, weights_folder)\u001b[0m\n\u001b[0;32m    279\u001b[0m         \"\"\"\n\u001b[0;32m    280\u001b[0m \u001b[1;33m\u001b[0m\u001b[0m\n\u001b[1;32m--> 281\u001b[1;33m         \u001b[1;32massert\u001b[0m \u001b[0mlen\u001b[0m\u001b[1;33m(\u001b[0m\u001b[0mtrain_data\u001b[0m\u001b[1;33m)\u001b[0m \u001b[1;33m%\u001b[0m \u001b[0mbatch_size\u001b[0m \u001b[1;33m==\u001b[0m \u001b[1;36m0\u001b[0m\u001b[1;33m,\u001b[0m \u001b[1;34m\"Data is not a multiple of the batch size\"\u001b[0m\u001b[1;33m\u001b[0m\u001b[0m\n\u001b[0m\u001b[0;32m    282\u001b[0m         \u001b[1;31m# Define the dataset class and iterator\u001b[0m\u001b[1;33m\u001b[0m\u001b[1;33m\u001b[0m\u001b[0m\n\u001b[0;32m    283\u001b[0m         \u001b[0mdataset\u001b[0m \u001b[1;33m=\u001b[0m \u001b[0mtf\u001b[0m\u001b[1;33m.\u001b[0m\u001b[0mdata\u001b[0m\u001b[1;33m.\u001b[0m\u001b[0mDataset\u001b[0m\u001b[1;33m.\u001b[0m\u001b[0mfrom_tensor_slices\u001b[0m\u001b[1;33m(\u001b[0m\u001b[0mtrain_data\u001b[0m\u001b[1;33m)\u001b[0m\u001b[1;33m.\u001b[0m\u001b[0mshuffle\u001b[0m\u001b[1;33m(\u001b[0m\u001b[0mlen\u001b[0m\u001b[1;33m(\u001b[0m\u001b[0mtrain_data\u001b[0m\u001b[1;33m)\u001b[0m\u001b[1;33m)\u001b[0m\u001b[1;33m.\u001b[0m\u001b[0mbatch\u001b[0m\u001b[1;33m(\u001b[0m\u001b[0mbatch_size\u001b[0m\u001b[1;33m)\u001b[0m\u001b[1;33m\u001b[0m\u001b[0m\n",
      "\u001b[1;31mAssertionError\u001b[0m: Data is not a multiple of the batch size"
     ]
    }
   ],
   "source": [
    "vae_training_parameters = {'train_data':phase_images,\n",
    "                          'batch_size':2500,\n",
    "                          'epochs': 1000,\n",
    "                          'log_dir_tensorboard': log_dir_tensorboard,\n",
    "                          'weights_folder': weights_folder}\n",
    "vae.train_vae(**vae_training_parameters)"
   ]
  },
  {
   "cell_type": "markdown",
   "metadata": {},
   "source": [
    "## Test decoding"
   ]
  }
 ],
 "metadata": {
  "kernelspec": {
   "display_name": "Python 3",
   "language": "python",
   "name": "python3"
  },
  "language_info": {
   "codemirror_mode": {
    "name": "ipython",
    "version": 3
   },
   "file_extension": ".py",
   "mimetype": "text/x-python",
   "name": "python",
   "nbconvert_exporter": "python",
   "pygments_lexer": "ipython3",
   "version": "3.5.2"
  }
 },
 "nbformat": 4,
 "nbformat_minor": 2
}
