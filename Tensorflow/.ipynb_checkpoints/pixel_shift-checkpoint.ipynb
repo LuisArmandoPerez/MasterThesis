{
 "cells": [
  {
   "cell_type": "code",
   "execution_count": 11,
   "metadata": {},
   "outputs": [],
   "source": [
    "import modules.vae_nn_images_shift\n",
    "import modules.savefolders\n",
    "import imageio\n",
    "import matplotlib.pyplot as plt"
   ]
  },
  {
   "cell_type": "markdown",
   "metadata": {},
   "source": [
    "### Image data"
   ]
  },
  {
   "cell_type": "code",
   "execution_count": 10,
   "metadata": {},
   "outputs": [
    {
     "data": {
      "image/png": "[encoded data removed]",
      "text/plain": [
       "<matplotlib.figure.Figure at 0x1f12dfef320>"
      ]
     },
     "metadata": {},
     "output_type": "display_data"
    }
   ],
   "source": [
    "# Import the image that will be used in the experiments\n",
    "image = imageio.imread('./img/symbol3.png')\n",
    "%matplotlib inline\n",
    "plt.imshow(image)\n",
    "plt.xticks([])\n",
    "plt.yticks([])\n",
    "plt.show()"
   ]
  },
  {
   "cell_type": "markdown",
   "metadata": {},
   "source": [
    "### Save Folder"
   ]
  },
  {
   "cell_type": "code",
   "execution_count": 12,
   "metadata": {},
   "outputs": [
    {
     "name": "stdout",
     "output_type": "stream",
     "text": [
      "Tensorboard address to copy paste:\n",
      "\n",
      "C:\\Users\\LUISPR~1\\DOCUME~1\\Master\\TUE\\FINALP~1\\TENSOR~1\\models\\IMAGES~1\\TENSOR~1\n"
     ]
    }
   ],
   "source": [
    "experiment_name = 'ImageShift' # Code for the experiment\n",
    "extra_comments ='Normal' # Extra comments of the experiment \n",
    "target_folder = \"C:\\\\Users\\\\Luis Pérez\\\\Documents\\\\Master\\\\TUE\\\\Final Project\\\\TensorFlow Models\"\n",
    "folders = modules.savefolders.SaveFolders(target_folder, experiment_name, extra_comments)\n",
    "log_dir_tensorboard = folders.get_logdir_tensorboard()\n",
    "weights_folder = folders.get_weight_file()"
   ]
  },
  {
   "cell_type": "code",
   "execution_count": 14,
   "metadata": {},
   "outputs": [
    {
     "name": "stdout",
     "output_type": "stream",
     "text": [
      "Normal distribution chosen as encoder\n"
     ]
    }
   ],
   "source": [
    "# Instantiate the VAE class\n",
    "vae_parameters = {'latent_dim':2,\n",
    "                  'mode':{'encoder':'Normal'},\n",
    "                 'learning_rate':0.0001,\n",
    "                 'shape':image.shape}\n",
    "vae = modules.vae_nn_images_shift.vae_nn_images(**vae_parameters)"
   ]
  },
  {
   "cell_type": "code",
   "execution_count": null,
   "metadata": {},
   "outputs": [],
   "source": [
    "vae_training_parameters = {'image':image,\n",
    "                           'axis':1,\n",
    "                          'batch_size':image.shape[0],\n",
    "                          'epochs': 10,\n",
    "                          'log_dir_tensorboard': log_dir_tensorboard,\n",
    "                          'weights_folder': weights_folder}\n",
    "vae.train_shift(**vae_training_parameters)"
   ]
  },
  {
   "cell_type": "code",
   "execution_count": null,
   "metadata": {},
   "outputs": [],
   "source": []
  }
 ],
 "metadata": {
  "kernelspec": {
   "display_name": "Python 3",
   "language": "python",
   "name": "python3"
  },
  "language_info": {
   "codemirror_mode": {
    "name": "ipython",
    "version": 3
   },
   "file_extension": ".py",
   "mimetype": "text/x-python",
   "name": "python",
   "nbconvert_exporter": "python",
   "pygments_lexer": "ipython3",
   "version": "3.5.2"
  }
 },
 "nbformat": 4,
 "nbformat_minor": 2
}
