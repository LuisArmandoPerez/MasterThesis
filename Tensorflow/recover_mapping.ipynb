{
 "cells": [
  {
   "cell_type": "code",
   "execution_count": 1,
   "metadata": {},
   "outputs": [],
   "source": [
    "import modules.latent_space_mapping\n",
    "import modules.restore_networks\n",
    "from os.path import split, join\n",
    "import resources.sinusoidal\n",
    "import numpy as np\n",
    "# Matplotlib imports\n",
    "import matplotlib.pyplot as plt\n",
    "import matplotlib.cm as cm\n",
    "import time\n",
    "import win32api\n",
    "import modules.visualization\n",
    "%matplotlib inline"
   ]
  },
  {
   "cell_type": "markdown",
   "metadata": {},
   "source": [
    "# Latent Space Mapping \n",
    "### Recovery\n",
    "This notebook has the purpose of recovering the saved models obtained by mapping the latent spaces obtained from sinusoidal data. The folowing steps are carried out:\n",
    "1.- Define the architecture of the network. This includes the order of the mapping between latent spaces. "
   ]
  },
  {
   "cell_type": "code",
   "execution_count": 2,
   "metadata": {},
   "outputs": [
    {
     "name": "stdout",
     "output_type": "stream",
     "text": [
      "Mapping from HeatKernel to Human\n"
     ]
    }
   ],
   "source": [
    "# Define the decoder architecture for the mapping of latent spaces\n",
    "names = ['HeatKernel', 'Normal', 'Human']\n",
    "names2 = ['hk', 'normal', 'human']\n",
    "order = (0, 2) #Tuple with the mapping order\n",
    "data_dimensions = 50 \n",
    "learning_rate = 0.0001\n",
    "vae = modules.latent_space_mapping.vae_nn_mapping(learning_rate, order, data_dimensions)\n",
    "\n",
    "# Define the path of the model weights to be used\n",
    "RECOVER_PATH = \"C:\\\\Users\\\\Luis Pérez\\\\Documents\\\\Master\\\\TUE\\\\Final Project\\\\TensorFlow Models\\\\joined_models\\\\Appropriate_models\"\n",
    "model_name = names2[order[0]]+\"_\"+names2[order[1]]+\".cpkt\"\n",
    "model_path = join(RECOVER_PATH, model_name)"
   ]
  },
  {
   "cell_type": "code",
   "execution_count": 3,
   "metadata": {},
   "outputs": [],
   "source": [
    "# Load encodings in latent space of the sinusoidal data used for training\n",
    "normal_code = np.load('normal_encoding.npy')\n",
    "hk_code = np.load('hk_encoding.npy')\n",
    "# Generate samples from input latent space and map it to the second latent space\n",
    "samples, mapped_samples = vae.map_latent_space(1000, weights_folder=model_path)\n",
    "# Decode the values obtained\n",
    "decoded1, decoded2 = vae.decode_codes(samples, weights_folder=model_path)"
   ]
  },
  {
   "cell_type": "code",
   "execution_count": 4,
   "metadata": {},
   "outputs": [
    {
     "data": {
      "image/png": "[encoded data removed]",
      "text/plain": [
       "<matplotlib.figure.Figure at 0x1ef54bb6a58>"
      ]
     },
     "metadata": {},
     "output_type": "display_data"
    }
   ],
   "source": [
    "%matplotlib inline\n",
    "plt.figure(figsize=(10,10))\n",
    "# plt.scatter(samples[:,0], samples[:,1])\n",
    "plt.scatter(mapped_samples[:,0], mapped_samples[:,1])\n",
    "# plt.scatter(normal_code[:,0], normal_code[:,1])\n",
    "plt.grid()"
   ]
  },
  {
   "cell_type": "code",
   "execution_count": 12,
   "metadata": {},
   "outputs": [],
   "source": [
    "%matplotlib qt5\n",
    "# Interactive visualization of the mapping\n",
    "modules.visualization.plot_latent_space_mapping(samples, mapped_samples, decoded1, decoded2)"
   ]
  },
  {
   "cell_type": "code",
   "execution_count": 28,
   "metadata": {},
   "outputs": [
    {
     "name": "stdout",
     "output_type": "stream",
     "text": [
      "In order to get sequential coloring of data, all of the inputs of the function need to be sorted.\n"
     ]
    }
   ],
   "source": [
    "%matplotlib qt5\n",
    "plot_latent_space_mapping(samples, mapped_samples, decoded1, decoded2)"
   ]
  },
  {
   "cell_type": "code",
   "execution_count": 27,
   "metadata": {},
   "outputs": [
    {
     "name": "stderr",
     "output_type": "stream",
     "text": [
      "c:\\anaconda3\\lib\\site-packages\\matplotlib\\collections.py:383: UserWarning: Collection picker None could not be converted to float\n",
      "  % self._picker)\n"
     ]
    }
   ],
   "source": [
    "import matplotlib.pyplot as plt\n",
    "\n",
    "\n",
    "def plot_latent_space_mapping(input_latent_code, output_latent_code, input_decoded, output_decoded):\n",
    "    print(\"In order to get sequential coloring of data, all of the inputs of the function need to be sorted.\")\n",
    "    x = input_latent_code[:, 0]\n",
    "    y = input_latent_code[:, 1]\n",
    "\n",
    "    # Create figure\n",
    "    fig = plt.figure(figsize=(20, 10))\n",
    "    # Create input latent map\n",
    "    ax = plt.subplot(121)\n",
    "    line = ax.scatter(x, y, c = range(len(x)), cmap = 'Blues')\n",
    "    ax.grid()\n",
    "    ax.set_aspect(1)\n",
    "    ax.set_title('Input latent space')\n",
    "    ax.set_xlabel('Z1')\n",
    "    ax.set_ylabel('Z2')\n",
    "    # Create output latent map\n",
    "    ax2 = plt.subplot(122)\n",
    "    ax2.grid()\n",
    "    ax2.set_title('Output latent space')\n",
    "    ax2.set_xlabel('Z1')\n",
    "    ax2.set_ylabel('Z2')\n",
    "    ax2.set_aspect(1)\n",
    "    line2 = ax2.scatter(output_latent_code[:, 0], output_latent_code[:, 1], c = range(len(output_latent_code)), cmap = 'Reds')\n",
    "    # Create the reconstruction subaxes\n",
    "    subax = plt.axes([0.65, 0.65, 0.2, 0.2])\n",
    "    subax.set_visible(False)\n",
    "    subax2 = plt.axes([0.65, 0.60, 0.2, 0.2])\n",
    "    subax2.set_visible(False)\n",
    "\n",
    "    def hover(event):\n",
    "        # if the mouse is over the scatter points\n",
    "        if line.contains(event)[0]:\n",
    "            # find out the index within the array from the event\n",
    "            ind, = line.contains(event)[1][\"ind\"]\n",
    "            # get the figure size\n",
    "            w, h = fig.get_size_inches() * fig.dpi\n",
    "            w_inch, h_inch = fig.get_size_inches()\n",
    "            ws = (event.x > w / 2.) * -1 + (event.x <= w / 2.)\n",
    "            hs = (event.y > h / 2.) * -1 + (event.y <= h / 2.)\n",
    "            # if event occurs in the top or right quadrant of the figure,\n",
    "            # change the annotation box position relative to mouse.\n",
    "            #         subax.xybox = (xybox[0]*ws, xybox[1]*hs)\n",
    "            # make annotation box visible\n",
    "\n",
    "            # Show the data reconstruction from input space\n",
    "            subax.clear()\n",
    "            figure_coord = fig.transFigure.inverted().transform((event.x, event.y))\n",
    "            subax.set_position([figure_coord[0], figure_coord[1], 0.2, 0.2])\n",
    "            subax.plot(range(len(input_decoded[ind])), input_decoded[ind], 'b')\n",
    "            subax.set_xticks([])\n",
    "            subax.set_yticks([])\n",
    "            subax.set_visible(True)\n",
    "            # Show the data reconstruction from output space\n",
    "            subax2.clear()\n",
    "            display_ax2 = ax2.transData.transform((output_latent_code[ind, 0], output_latent_code[ind, 1]))\n",
    "            figure_ax2 = fig.transFigure.inverted().transform(display_ax2)\n",
    "            subax2.set_position([figure_ax2[0], figure_ax2[1], 0.2, 0.2])\n",
    "            subax2.plot(range(len(output_decoded[ind])), output_decoded[ind], 'b')\n",
    "            subax2.set_xticks([])\n",
    "            subax2.set_yticks([])\n",
    "            subax2.set_visible(True)\n",
    "            ax2.plot(output_latent_code[ind, 0], output_latent_code[ind, 1], ls=\"\", markersize=10, markeredgewidth=1.5,\n",
    "                     marker=\"o\", markeredgecolor=\"k\", markerfacecolor='w', color=\"r\")\n",
    "        else:\n",
    "            ax2.clear()\n",
    "            ax2.grid()\n",
    "            ax2.set_title('Output latent space')\n",
    "            ax2.set_xlabel('Z1')\n",
    "            ax2.set_ylabel('Z2')\n",
    "            ax2.scatter(output_latent_code[:, 0], output_latent_code[:, 1],c = range(len(output_latent_code)), cmap = 'Reds')\n",
    "            # if the mouse is not over a scatter point\n",
    "            subax2.set_visible(False)\n",
    "            subax.set_visible(False)\n",
    "        fig.canvas.draw_idle()\n",
    "\n",
    "    # add callback for mouse moves\n",
    "    fig.canvas.mpl_connect('motion_notify_event', hover)\n",
    "    plt.show()\n"
   ]
  },
  {
   "cell_type": "code",
   "execution_count": null,
   "metadata": {},
   "outputs": [],
   "source": []
  }
 ],
 "metadata": {
  "kernelspec": {
   "display_name": "Python 3",
   "language": "python",
   "name": "python3"
  },
  "language_info": {
   "codemirror_mode": {
    "name": "ipython",
    "version": 3
   },
   "file_extension": ".py",
   "mimetype": "text/x-python",
   "name": "python",
   "nbconvert_exporter": "python",
   "pygments_lexer": "ipython3",
   "version": "3.5.2"
  }
 },
 "nbformat": 4,
 "nbformat_minor": 2
}
